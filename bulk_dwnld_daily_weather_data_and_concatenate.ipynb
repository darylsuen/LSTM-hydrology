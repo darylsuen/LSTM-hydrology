{
 "cells": [
  {
   "cell_type": "code",
   "execution_count": 4,
   "metadata": {},
   "outputs": [],
   "source": [
    "import requests\n",
    "from bs4 import BeautifulSoup\n",
    "import os\n",
    "from datetime import datetime\n",
    "import io\n",
    "import pandas as pd\n",
    "import glob as gl"
   ]
  },
  {
   "cell_type": "code",
   "execution_count": 1,
   "metadata": {},
   "outputs": [],
   "source": [
    "import requests\n",
    "from bs4 import BeautifulSoup\n",
    "import os\n",
    "from datetime import datetime\n",
    "\n",
    "# URL of the the weather data download page.\n",
    "url = 'https://dd.weather.gc.ca/climate/observations/hourly/csv/NS/'\n",
    "\n",
    "# Station ID of the weather station of interest.\n",
    "stn_id = '8202000'\n",
    "\n",
    "# Destination directory to save the CSV files\n",
    "save_dir = (r'C:\\Users\\daryl\\OneDrive\\Documents\\GDAA3000\\ProjectDischarge'\n",
    "            r'\\RdrsSample\\LstmDatasets\\NsWeatherData\\Daily')\n",
    "\n",
    "# Destination directory to save the concatenated CSV files.\n",
    "dst_dir = (r'C:\\Users\\daryl\\OneDrive\\Documents\\GDAA3000\\ProjectDischarge'\n",
    "            r'\\RdrsSample\\LstmDatasets\\NsWeatherData\\Concatenated')\n",
    "\n",
    "# Send a GET request to the webpage.\n",
    "response = requests.get(url)\n",
    "\n",
    "# Parse the webpage with BeautifulSoup.\n",
    "soup = BeautifulSoup(response.text, 'html.parser')\n",
    "\n",
    "# Find all 'a' tags (which define hyperlinks) in the HTML\n",
    "links = soup.find_all('a')\n",
    "\n",
    "# Define the time period of interest.\n",
    "start_date = datetime(2011, 1, 1)\n",
    "end_date = datetime(2021, 12, 31)\n",
    "\n",
    "# Loop over the links on the webpage.\n",
    "for link in links:\n",
    "    # Get the href attribute of the CSV links.\n",
    "    if link.get('href').endswith('.csv'):\n",
    "        # Extract the date from the filename. The date is the 5th element when splitting by '_'. \n",
    "        filename = link.get('href')\n",
    "        date_str = filename.split('_')[4]  \n",
    "        file_date = datetime.strptime(date_str, '%Y')\n",
    "\n",
    "        # Check if the file is within the date range and has the correct prefix\n",
    "        if stn_id in filename and start_date <= file_date <= end_date:\n",
    "            # Construct the full URL to the CSV file.\n",
    "            csv_url = url + filename\n",
    "\n",
    "            # Send a GET request to the CSV URL.\n",
    "            csv_response = requests.get(csv_url)\n",
    "\n",
    "            # Create the name format for the saved CSV file. It will contain\n",
    "            # the station ID and the year of the data.\n",
    "            csv_name = filename.split('_')[3] + '_' + filename.split('_')[4] + '.csv'\n",
    "\n",
    "            # Create the full path to the file\n",
    "            file_path = os.path.join(save_dir, csv_name)\n",
    "\n",
    "            # Write the contents of the response to a file\n",
    "            with open(file_path, 'wb') as f:\n",
    "                f.write(csv_response.content)"
   ]
  },
  {
   "cell_type": "markdown",
   "metadata": {},
   "source": [
    "Concatenate the files"
   ]
  },
  {
   "cell_type": "code",
   "execution_count": null,
   "metadata": {},
   "outputs": [],
   "source": [
    "# Get a list of all CSV files in the directory\n",
    "csv_files = gl.glob(f'{save_dir} + /*{stn_id}*.csv')\n",
    "dfs = []\n",
    "\n",
    "for csv in csv_files:\n",
    "    try:\n",
    "        # Try to read the CSV file with 'utf-8' encoding\n",
    "        with open(csv, 'rb') as f:\n",
    "            content = f.read().decode('utf-8')\n",
    "        df = pd.read_csv(io.StringIO(content))\n",
    "    except UnicodeDecodeError:\n",
    "        # If there's a UnicodeDecodeError, try a different encoding\n",
    "        with open(csv, 'rb') as f:\n",
    "            content = f.read().decode('ISO-8859-1')\n",
    "        df = pd.read_csv(io.StringIO(content))\n",
    "    dfs.append(df)\n",
    "# Concatenate the dataframes.\n",
    "df_all = pd.concat(dfs, ignore_index=True)\n",
    "df_all = df_all.drop(columns=['Longitude (x)', 'Latitude (y)', 'Station Name',\n",
    "                              'Year', 'Month', 'Day', 'Data Quality', 'Max Temp Flag',\n",
    "                               'Min Temp Flag', 'Mean Temp Flag', 'Heat Deg Days Flag',\n",
    "                                'Cool Deg Days Flag', 'Total Rain Flag', \n",
    "                                'Total Snow Flag', 'Total Precip Flag', \n",
    "                                'Snow on Grnd Flag', 'Dir of Max Gust Flag',\n",
    "                                   'Spd of Max Gust Flag'])\n",
    "\n",
    "# Make Date/Time a datetime object\n",
    "df_all['Date/Time'] = pd.to_datetime(df_all['Date/Time'])\n",
    "df_all = df_all.rename(columns={'Date/Time': 'date'})\n",
    "\n",
    "# Set the date as the index\n",
    "df_all.set_index('date', inplace=True)\n",
    "\n",
    "# Make the index regularly spaced (e.g., daily)\n",
    "df_all = df_all.asfreq('D')\n",
    "\n",
    "# Check if the index is regularly spaced. Returns 'True' if it is.\n",
    "print(df_all.index.freq)"
   ]
  },
  {
   "cell_type": "markdown",
   "metadata": {},
   "source": [
    "Save concatenated file."
   ]
  },
  {
   "cell_type": "code",
   "execution_count": null,
   "metadata": {},
   "outputs": [],
   "source": [
    "df_all.to_csv(os.path.join(dst_dir, stn_id + 'concatenated_daily.csv'))"
   ]
  }
 ],
 "metadata": {
  "kernelspec": {
   "display_name": "Python 3",
   "language": "python",
   "name": "python3"
  },
  "language_info": {
   "codemirror_mode": {
    "name": "ipython",
    "version": 3
   },
   "file_extension": ".py",
   "mimetype": "text/x-python",
   "name": "python",
   "nbconvert_exporter": "python",
   "pygments_lexer": "ipython3",
   "version": "3.12.0"
  }
 },
 "nbformat": 4,
 "nbformat_minor": 2
}
